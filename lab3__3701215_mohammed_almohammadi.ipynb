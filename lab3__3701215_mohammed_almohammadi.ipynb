{
 "cells": [
  {
   "cell_type": "code",
   "execution_count": 1,
   "metadata": {},
   "outputs": [],
   "source": [
    "def conform(fav):\n",
    "    fav= 42\n",
    "    return fav"
   ]
  },
  {
   "cell_type": "code",
   "execution_count": 2,
   "metadata": {},
   "outputs": [
    {
     "name": "stdout",
     "output_type": "stream",
     "text": [
      "Welcome!\n",
      "My favorite # is 7\n"
     ]
    }
   ],
   "source": [
    "if __name__ == \"__main__\":\n",
    "    print(\"Welcome!\")\n",
    "    fav =7\n",
    "    conform(fav)\n",
    "    print(\"My favorite # is\", fav)"
   ]
  },
  {
   "cell_type": "code",
   "execution_count": 3,
   "metadata": {},
   "outputs": [
    {
     "name": "stdout",
     "output_type": "stream",
     "text": [
      "Inside the function {'A': 28, 'B': 25, 'C': 32, 'D': 25, 'E': 38, 'F': 28}\n",
      "outside the function: {'A': 28, 'B': 25, 'C': 32, 'D': 25, 'E': 38, 'F': 28}\n"
     ]
    }
   ],
   "source": [
    "student={'A':28,'B':25,'C':32,'D':25}\n",
    "def test(student):\n",
    "    new={'E':38,'F':28}\n",
    "    student.update(new)\n",
    "    print(\"Inside the function\",student)\n",
    "    return\n",
    "test(student)\n",
    "print(\"outside the function:\",student)"
   ]
  },
  {
   "cell_type": "code",
   "execution_count": 4,
   "metadata": {},
   "outputs": [
    {
     "name": "stdout",
     "output_type": "stream",
     "text": [
      "mohammed_almohammadi\n"
     ]
    }
   ],
   "source": [
    "class Student:\n",
    "    def __init__(self, name):\n",
    "        self.name=name\n",
    "        self.course_list= []\n",
    "std=Student(\"mohammed_almohammadi\")\n",
    "print(std.name)"
   ]
  },
  {
   "cell_type": "code",
   "execution_count": 5,
   "metadata": {},
   "outputs": [
    {
     "name": "stdout",
     "output_type": "stream",
     "text": [
      "['python']\n"
     ]
    }
   ],
   "source": [
    "class Student:\n",
    "    def __init__(self, name):\n",
    "        self.name=name\n",
    "        self.course_list= []\n",
    "    def add(self, new_course):\n",
    "            self.course_list.append(new_course)\n",
    "            \n",
    "std=Student(\"mohammed_almohammadi\")\n",
    "std.add(\"python\")\n",
    "print(std.course_list)"
   ]
  },
  {
   "cell_type": "code",
   "execution_count": null,
   "metadata": {},
   "outputs": [],
   "source": [
    "class Student:\n",
    "    \n",
    "    def __init__(self, name):\n",
    "        self.name=name\n",
    "        self.course_list= []\n",
    "    def add(self, new_course):\n",
    "        self.course_list.append(new_course)\n",
    "        \n",
    "std=Student(\"mohammed_almohammadi\")\n",
    "txt = input(\"hello world!\")\n",
    "std.add(txt)\n",
    "print(std.course_list)"
   ]
  },
  {
   "cell_type": "code",
   "execution_count": null,
   "metadata": {},
   "outputs": [],
   "source": []
  },
  {
   "cell_type": "code",
   "execution_count": null,
   "metadata": {},
   "outputs": [],
   "source": [
    "class person\n",
    "   def __init__(self,fname, lname):\n",
    "        self.firstname = fname\n",
    "        self.lastname = lname\n",
    "        \n",
    "    def printname(self):\n",
    "        print(self.firstname, self.lastname)\n",
    "        \n",
    "class professor(person):\n",
    "    pass\n",
    "mhd = professor(\"Mohammed\", \"Alsarem\")\n",
    "mhd.printname()"
   ]
  }
 ],
 "metadata": {
  "kernelspec": {
   "display_name": "Python 3",
   "language": "python",
   "name": "python3"
  },
  "language_info": {
   "codemirror_mode": {
    "name": "ipython",
    "version": 3
   },
   "file_extension": ".py",
   "mimetype": "text/x-python",
   "name": "python",
   "nbconvert_exporter": "python",
   "pygments_lexer": "ipython3",
   "version": "3.8.5"
  }
 },
 "nbformat": 4,
 "nbformat_minor": 4
}
